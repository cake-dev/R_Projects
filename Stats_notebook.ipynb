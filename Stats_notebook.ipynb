{
 "cells": [
  {
   "cell_type": "code",
   "execution_count": 2,
   "metadata": {},
   "outputs": [],
   "source": [
    "import pandas\n",
    "import numpy\n",
    "import matplotlib.pyplot as plt"
   ]
  },
  {
   "cell_type": "code",
   "execution_count": 3,
   "metadata": {},
   "outputs": [],
   "source": [
    "colors = ['red', 'white', 'blue']\n",
    "# generate all permutations of the colors of length 3\n",
    "colors_permutations = numpy.array(numpy.meshgrid(colors, colors, colors)).T.reshape(-1,3)"
   ]
  },
  {
   "cell_type": "code",
   "execution_count": 8,
   "metadata": {},
   "outputs": [
    {
     "data": {
      "text/plain": [
       "array([['white', 'white', 'red'],\n",
       "       ['red', 'white', 'white'],\n",
       "       ['white', 'red', 'white'],\n",
       "       ['white', 'blue', 'white'],\n",
       "       ['blue', 'white', 'white'],\n",
       "       ['white', 'white', 'blue']], dtype='<U5')"
      ]
     },
     "execution_count": 8,
     "metadata": {},
     "output_type": "execute_result"
    }
   ],
   "source": [
    "# show the permutations where there are 2 white and 1 red only\n",
    "colors_permutations[numpy.sum(colors_permutations == 'white', axis=1) == 2]"
   ]
  },
  {
   "cell_type": "code",
   "execution_count": 9,
   "metadata": {},
   "outputs": [],
   "source": [
    "# create a bag with 6 white balls, 5 red balls, and 4 blue balls\n",
    "bag = numpy.array(['white'] * 6 + ['red'] * 5 + ['blue'] * 4)"
   ]
  },
  {
   "cell_type": "code",
   "execution_count": 15,
   "metadata": {},
   "outputs": [
    {
     "data": {
      "text/plain": [
       "233"
      ]
     },
     "execution_count": 15,
     "metadata": {},
     "output_type": "execute_result"
    }
   ],
   "source": [
    "# draw 3 balls from the bag\n",
    "numpy.random.choice(bag, size=3)\n",
    "\n",
    "# draw 3 balls from the bag 1000000 times\n",
    "draws = numpy.array([numpy.random.choice(bag, size=3) for _ in range(1000000)])\n",
    "\n",
    "# count the number of times all 3 balls are the same color\n",
    "numpy.sum(numpy.all(draws == draws[0], axis=1))"
   ]
  }
 ],
 "metadata": {
  "kernelspec": {
   "display_name": "rstools",
   "language": "python",
   "name": "python3"
  },
  "language_info": {
   "codemirror_mode": {
    "name": "ipython",
    "version": 3
   },
   "file_extension": ".py",
   "mimetype": "text/x-python",
   "name": "python",
   "nbconvert_exporter": "python",
   "pygments_lexer": "ipython3",
   "version": "3.8.15"
  },
  "orig_nbformat": 4,
  "vscode": {
   "interpreter": {
    "hash": "74433767b723a45c483350c3d47eaaf29169a313b081c7ff587871958aa1c787"
   }
  }
 },
 "nbformat": 4,
 "nbformat_minor": 2
}
